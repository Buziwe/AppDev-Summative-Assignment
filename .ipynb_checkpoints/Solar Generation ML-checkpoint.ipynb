{
 "cells": [
  {
   "cell_type": "code",
   "execution_count": 1,
   "metadata": {},
   "outputs": [],
   "source": [
    "from sklearn import linear_model # for linear regression modeling\n",
    "from sklearn import preprocessing # for preprocessing like imputting missing values\n",
    "import matplotlib.pyplot as plt\n",
    "import pandas as pd\n",
    "import numpy as np\n",
    "plt.rc(\"font\", size=14)\n",
    "import seaborn as sns\n",
    "sns.set(style=\"white\")\n",
    "sns.set(style=\"whitegrid\", color_codes=True)"
   ]
  },
  {
   "cell_type": "code",
   "execution_count": 2,
   "metadata": {},
   "outputs": [],
   "source": [
    "%matplotlib inline "
   ]
  },
  {
   "cell_type": "code",
   "execution_count": 3,
   "metadata": {},
   "outputs": [
    {
     "data": {
      "text/html": [
       "<div>\n",
       "<style scoped>\n",
       "    .dataframe tbody tr th:only-of-type {\n",
       "        vertical-align: middle;\n",
       "    }\n",
       "\n",
       "    .dataframe tbody tr th {\n",
       "        vertical-align: top;\n",
       "    }\n",
       "\n",
       "    .dataframe thead th {\n",
       "        text-align: right;\n",
       "    }\n",
       "</style>\n",
       "<table border=\"1\" class=\"dataframe\">\n",
       "  <thead>\n",
       "    <tr style=\"text-align: right;\">\n",
       "      <th></th>\n",
       "      <th>Month</th>\n",
       "      <th>Day</th>\n",
       "      <th>Temp Hi</th>\n",
       "      <th>Temp Low</th>\n",
       "      <th>Solar</th>\n",
       "      <th>Cloud Cover Percentage</th>\n",
       "      <th>Rainfall in mm</th>\n",
       "      <th>Power Generated in MW</th>\n",
       "    </tr>\n",
       "  </thead>\n",
       "  <tbody>\n",
       "    <tr>\n",
       "      <td>0</td>\n",
       "      <td>Jan</td>\n",
       "      <td>1</td>\n",
       "      <td>109°</td>\n",
       "      <td>85°</td>\n",
       "      <td>30.0</td>\n",
       "      <td>9</td>\n",
       "      <td>0.0</td>\n",
       "      <td>9.93</td>\n",
       "    </tr>\n",
       "    <tr>\n",
       "      <td>1</td>\n",
       "      <td>Jan</td>\n",
       "      <td>2</td>\n",
       "      <td>106°</td>\n",
       "      <td>71°</td>\n",
       "      <td>30.1</td>\n",
       "      <td>9</td>\n",
       "      <td>0.0</td>\n",
       "      <td>9.97</td>\n",
       "    </tr>\n",
       "    <tr>\n",
       "      <td>2</td>\n",
       "      <td>Jan</td>\n",
       "      <td>3</td>\n",
       "      <td>106°</td>\n",
       "      <td>81°</td>\n",
       "      <td>29.5</td>\n",
       "      <td>9</td>\n",
       "      <td>0.0</td>\n",
       "      <td>9.77</td>\n",
       "    </tr>\n",
       "    <tr>\n",
       "      <td>3</td>\n",
       "      <td>Jan</td>\n",
       "      <td>4</td>\n",
       "      <td>102°</td>\n",
       "      <td>83°</td>\n",
       "      <td>13.0</td>\n",
       "      <td>4</td>\n",
       "      <td>0.0</td>\n",
       "      <td>4.30</td>\n",
       "    </tr>\n",
       "    <tr>\n",
       "      <td>4</td>\n",
       "      <td>Jan</td>\n",
       "      <td>5</td>\n",
       "      <td>105°</td>\n",
       "      <td>80°</td>\n",
       "      <td>30.1</td>\n",
       "      <td>9</td>\n",
       "      <td>0.0</td>\n",
       "      <td>9.97</td>\n",
       "    </tr>\n",
       "    <tr>\n",
       "      <td>...</td>\n",
       "      <td>...</td>\n",
       "      <td>...</td>\n",
       "      <td>...</td>\n",
       "      <td>...</td>\n",
       "      <td>...</td>\n",
       "      <td>...</td>\n",
       "      <td>...</td>\n",
       "      <td>...</td>\n",
       "    </tr>\n",
       "    <tr>\n",
       "      <td>360</td>\n",
       "      <td>Dec</td>\n",
       "      <td>27</td>\n",
       "      <td>101°</td>\n",
       "      <td>83°</td>\n",
       "      <td>26.4</td>\n",
       "      <td>8</td>\n",
       "      <td>NaN</td>\n",
       "      <td>8.74</td>\n",
       "    </tr>\n",
       "    <tr>\n",
       "      <td>361</td>\n",
       "      <td>Dec</td>\n",
       "      <td>28</td>\n",
       "      <td>102°</td>\n",
       "      <td>84°</td>\n",
       "      <td>25.8</td>\n",
       "      <td>8</td>\n",
       "      <td>NaN</td>\n",
       "      <td>8.54</td>\n",
       "    </tr>\n",
       "    <tr>\n",
       "      <td>362</td>\n",
       "      <td>Dec</td>\n",
       "      <td>29</td>\n",
       "      <td>104°</td>\n",
       "      <td>83°</td>\n",
       "      <td>26.9</td>\n",
       "      <td>8</td>\n",
       "      <td>NaN</td>\n",
       "      <td>8.91</td>\n",
       "    </tr>\n",
       "    <tr>\n",
       "      <td>363</td>\n",
       "      <td>Dec</td>\n",
       "      <td>30</td>\n",
       "      <td>105°</td>\n",
       "      <td>80°</td>\n",
       "      <td>25.1</td>\n",
       "      <td>8</td>\n",
       "      <td>NaN</td>\n",
       "      <td>8.31</td>\n",
       "    </tr>\n",
       "    <tr>\n",
       "      <td>364</td>\n",
       "      <td>Dec</td>\n",
       "      <td>31</td>\n",
       "      <td>108°</td>\n",
       "      <td>81°</td>\n",
       "      <td>29.0</td>\n",
       "      <td>9</td>\n",
       "      <td>NaN</td>\n",
       "      <td>9.60</td>\n",
       "    </tr>\n",
       "  </tbody>\n",
       "</table>\n",
       "<p>365 rows × 8 columns</p>\n",
       "</div>"
      ],
      "text/plain": [
       "    Month   Day Temp Hi Temp Low  Solar  Cloud Cover Percentage  \\\n",
       "0      Jan    1    109°      85°   30.0                       9   \n",
       "1      Jan    2    106°      71°   30.1                       9   \n",
       "2      Jan    3    106°      81°   29.5                       9   \n",
       "3      Jan    4    102°      83°   13.0                       4   \n",
       "4      Jan    5    105°      80°   30.1                       9   \n",
       "..     ...  ...     ...      ...    ...                     ...   \n",
       "360    Dec   27    101°      83°   26.4                       8   \n",
       "361    Dec   28    102°      84°   25.8                       8   \n",
       "362    Dec   29    104°      83°   26.9                       8   \n",
       "363    Dec   30    105°      80°   25.1                       8   \n",
       "364    Dec   31    108°      81°   29.0                       9   \n",
       "\n",
       "     Rainfall in mm  Power Generated in MW  \n",
       "0               0.0                   9.93  \n",
       "1               0.0                   9.97  \n",
       "2               0.0                   9.77  \n",
       "3               0.0                   4.30  \n",
       "4               0.0                   9.97  \n",
       "..              ...                    ...  \n",
       "360             NaN                   8.74  \n",
       "361             NaN                   8.54  \n",
       "362             NaN                   8.91  \n",
       "363             NaN                   8.31  \n",
       "364             NaN                   9.60  \n",
       "\n",
       "[365 rows x 8 columns]"
      ]
     },
     "execution_count": 3,
     "metadata": {},
     "output_type": "execute_result"
    }
   ],
   "source": [
    "data = pd.read_csv('solar_generation_data.csv', sep=\",\")\n",
    "data"
   ]
  },
  {
   "cell_type": "code",
   "execution_count": 4,
   "metadata": {},
   "outputs": [
    {
     "name": "stdout",
     "output_type": "stream",
     "text": [
      "<class 'pandas.core.frame.DataFrame'>\n",
      "RangeIndex: 365 entries, 0 to 364\n",
      "Data columns (total 8 columns):\n",
      "Month                     365 non-null object\n",
      "Day                       365 non-null int64\n",
      "Temp Hi                   365 non-null object\n",
      "Temp Low                  365 non-null object\n",
      "Solar                     365 non-null float64\n",
      "Cloud Cover Percentage    365 non-null int64\n",
      "Rainfall in mm            312 non-null float64\n",
      "Power Generated in MW     365 non-null float64\n",
      "dtypes: float64(3), int64(2), object(3)\n",
      "memory usage: 22.9+ KB\n"
     ]
    }
   ],
   "source": [
    "data.info()"
   ]
  },
  {
   "cell_type": "code",
   "execution_count": 5,
   "metadata": {},
   "outputs": [],
   "source": [
    "#converting temp to float\n",
    "data['Temp Hi'] = data['Temp Hi'].replace('°','', regex=True)\n",
    "data['Temp Low'] = data['Temp Low'].replace('°','', regex=True)"
   ]
  },
  {
   "cell_type": "code",
   "execution_count": 6,
   "metadata": {},
   "outputs": [
    {
     "data": {
      "text/html": [
       "<div>\n",
       "<style scoped>\n",
       "    .dataframe tbody tr th:only-of-type {\n",
       "        vertical-align: middle;\n",
       "    }\n",
       "\n",
       "    .dataframe tbody tr th {\n",
       "        vertical-align: top;\n",
       "    }\n",
       "\n",
       "    .dataframe thead th {\n",
       "        text-align: right;\n",
       "    }\n",
       "</style>\n",
       "<table border=\"1\" class=\"dataframe\">\n",
       "  <thead>\n",
       "    <tr style=\"text-align: right;\">\n",
       "      <th></th>\n",
       "      <th>Month</th>\n",
       "      <th>Day</th>\n",
       "      <th>Temp Hi</th>\n",
       "      <th>Temp Low</th>\n",
       "      <th>Solar</th>\n",
       "      <th>Cloud Cover Percentage</th>\n",
       "      <th>Rainfall in mm</th>\n",
       "      <th>Power Generated in MW</th>\n",
       "    </tr>\n",
       "  </thead>\n",
       "  <tbody>\n",
       "    <tr>\n",
       "      <td>0</td>\n",
       "      <td>Jan</td>\n",
       "      <td>1</td>\n",
       "      <td>109</td>\n",
       "      <td>85</td>\n",
       "      <td>30.0</td>\n",
       "      <td>9</td>\n",
       "      <td>0.0</td>\n",
       "      <td>9.93</td>\n",
       "    </tr>\n",
       "    <tr>\n",
       "      <td>1</td>\n",
       "      <td>Jan</td>\n",
       "      <td>2</td>\n",
       "      <td>106</td>\n",
       "      <td>71</td>\n",
       "      <td>30.1</td>\n",
       "      <td>9</td>\n",
       "      <td>0.0</td>\n",
       "      <td>9.97</td>\n",
       "    </tr>\n",
       "    <tr>\n",
       "      <td>2</td>\n",
       "      <td>Jan</td>\n",
       "      <td>3</td>\n",
       "      <td>106</td>\n",
       "      <td>81</td>\n",
       "      <td>29.5</td>\n",
       "      <td>9</td>\n",
       "      <td>0.0</td>\n",
       "      <td>9.77</td>\n",
       "    </tr>\n",
       "    <tr>\n",
       "      <td>3</td>\n",
       "      <td>Jan</td>\n",
       "      <td>4</td>\n",
       "      <td>102</td>\n",
       "      <td>83</td>\n",
       "      <td>13.0</td>\n",
       "      <td>4</td>\n",
       "      <td>0.0</td>\n",
       "      <td>4.30</td>\n",
       "    </tr>\n",
       "    <tr>\n",
       "      <td>4</td>\n",
       "      <td>Jan</td>\n",
       "      <td>5</td>\n",
       "      <td>105</td>\n",
       "      <td>80</td>\n",
       "      <td>30.1</td>\n",
       "      <td>9</td>\n",
       "      <td>0.0</td>\n",
       "      <td>9.97</td>\n",
       "    </tr>\n",
       "    <tr>\n",
       "      <td>...</td>\n",
       "      <td>...</td>\n",
       "      <td>...</td>\n",
       "      <td>...</td>\n",
       "      <td>...</td>\n",
       "      <td>...</td>\n",
       "      <td>...</td>\n",
       "      <td>...</td>\n",
       "      <td>...</td>\n",
       "    </tr>\n",
       "    <tr>\n",
       "      <td>360</td>\n",
       "      <td>Dec</td>\n",
       "      <td>27</td>\n",
       "      <td>101</td>\n",
       "      <td>83</td>\n",
       "      <td>26.4</td>\n",
       "      <td>8</td>\n",
       "      <td>NaN</td>\n",
       "      <td>8.74</td>\n",
       "    </tr>\n",
       "    <tr>\n",
       "      <td>361</td>\n",
       "      <td>Dec</td>\n",
       "      <td>28</td>\n",
       "      <td>102</td>\n",
       "      <td>84</td>\n",
       "      <td>25.8</td>\n",
       "      <td>8</td>\n",
       "      <td>NaN</td>\n",
       "      <td>8.54</td>\n",
       "    </tr>\n",
       "    <tr>\n",
       "      <td>362</td>\n",
       "      <td>Dec</td>\n",
       "      <td>29</td>\n",
       "      <td>104</td>\n",
       "      <td>83</td>\n",
       "      <td>26.9</td>\n",
       "      <td>8</td>\n",
       "      <td>NaN</td>\n",
       "      <td>8.91</td>\n",
       "    </tr>\n",
       "    <tr>\n",
       "      <td>363</td>\n",
       "      <td>Dec</td>\n",
       "      <td>30</td>\n",
       "      <td>105</td>\n",
       "      <td>80</td>\n",
       "      <td>25.1</td>\n",
       "      <td>8</td>\n",
       "      <td>NaN</td>\n",
       "      <td>8.31</td>\n",
       "    </tr>\n",
       "    <tr>\n",
       "      <td>364</td>\n",
       "      <td>Dec</td>\n",
       "      <td>31</td>\n",
       "      <td>108</td>\n",
       "      <td>81</td>\n",
       "      <td>29.0</td>\n",
       "      <td>9</td>\n",
       "      <td>NaN</td>\n",
       "      <td>9.60</td>\n",
       "    </tr>\n",
       "  </tbody>\n",
       "</table>\n",
       "<p>365 rows × 8 columns</p>\n",
       "</div>"
      ],
      "text/plain": [
       "    Month   Day Temp Hi Temp Low  Solar  Cloud Cover Percentage  \\\n",
       "0      Jan    1     109       85   30.0                       9   \n",
       "1      Jan    2     106       71   30.1                       9   \n",
       "2      Jan    3     106       81   29.5                       9   \n",
       "3      Jan    4     102       83   13.0                       4   \n",
       "4      Jan    5     105       80   30.1                       9   \n",
       "..     ...  ...     ...      ...    ...                     ...   \n",
       "360    Dec   27     101       83   26.4                       8   \n",
       "361    Dec   28     102       84   25.8                       8   \n",
       "362    Dec   29     104       83   26.9                       8   \n",
       "363    Dec   30     105       80   25.1                       8   \n",
       "364    Dec   31     108       81   29.0                       9   \n",
       "\n",
       "     Rainfall in mm  Power Generated in MW  \n",
       "0               0.0                   9.93  \n",
       "1               0.0                   9.97  \n",
       "2               0.0                   9.77  \n",
       "3               0.0                   4.30  \n",
       "4               0.0                   9.97  \n",
       "..              ...                    ...  \n",
       "360             NaN                   8.74  \n",
       "361             NaN                   8.54  \n",
       "362             NaN                   8.91  \n",
       "363             NaN                   8.31  \n",
       "364             NaN                   9.60  \n",
       "\n",
       "[365 rows x 8 columns]"
      ]
     },
     "execution_count": 6,
     "metadata": {},
     "output_type": "execute_result"
    }
   ],
   "source": [
    "data"
   ]
  },
  {
   "cell_type": "code",
   "execution_count": 7,
   "metadata": {},
   "outputs": [
    {
     "data": {
      "text/plain": [
       "Month                      0\n",
       "Day                        0\n",
       "Temp Hi                    0\n",
       "Temp Low                   0\n",
       "Solar                      0\n",
       "Cloud Cover Percentage     0\n",
       "Rainfall in mm            53\n",
       "Power Generated in MW      0\n",
       "dtype: int64"
      ]
     },
     "execution_count": 7,
     "metadata": {},
     "output_type": "execute_result"
    }
   ],
   "source": [
    "data.isnull().sum()"
   ]
  },
  {
   "cell_type": "code",
   "execution_count": 8,
   "metadata": {},
   "outputs": [
    {
     "data": {
      "text/plain": [
       "Month                     0\n",
       "Day                       0\n",
       "Temp Hi                   0\n",
       "Temp Low                  0\n",
       "Solar                     0\n",
       "Cloud Cover Percentage    0\n",
       "Rainfall in mm            0\n",
       "Power Generated in MW     0\n",
       "dtype: int64"
      ]
     },
     "execution_count": 8,
     "metadata": {},
     "output_type": "execute_result"
    }
   ],
   "source": [
    "data.fillna(data.median(), inplace=True)\n",
    "data.isnull().sum(axis=0)"
   ]
  },
  {
   "cell_type": "code",
   "execution_count": 9,
   "metadata": {},
   "outputs": [],
   "source": [
    "data['Temp Hi'] = data['Temp Hi'].astype(float)\n",
    "data['Temp Low'] = data['Temp Low'].astype(float)"
   ]
  },
  {
   "cell_type": "code",
   "execution_count": 10,
   "metadata": {},
   "outputs": [
    {
     "name": "stdout",
     "output_type": "stream",
     "text": [
      "<class 'pandas.core.frame.DataFrame'>\n",
      "RangeIndex: 365 entries, 0 to 364\n",
      "Data columns (total 8 columns):\n",
      "Month                     365 non-null object\n",
      "Day                       365 non-null int64\n",
      "Temp Hi                   365 non-null float64\n",
      "Temp Low                  365 non-null float64\n",
      "Solar                     365 non-null float64\n",
      "Cloud Cover Percentage    365 non-null int64\n",
      "Rainfall in mm            365 non-null float64\n",
      "Power Generated in MW     365 non-null float64\n",
      "dtypes: float64(5), int64(2), object(1)\n",
      "memory usage: 22.9+ KB\n"
     ]
    }
   ],
   "source": [
    "data.info()"
   ]
  },
  {
   "cell_type": "code",
   "execution_count": 12,
   "metadata": {},
   "outputs": [
    {
     "data": {
      "text/html": [
       "<div>\n",
       "<style scoped>\n",
       "    .dataframe tbody tr th:only-of-type {\n",
       "        vertical-align: middle;\n",
       "    }\n",
       "\n",
       "    .dataframe tbody tr th {\n",
       "        vertical-align: top;\n",
       "    }\n",
       "\n",
       "    .dataframe thead th {\n",
       "        text-align: right;\n",
       "    }\n",
       "</style>\n",
       "<table border=\"1\" class=\"dataframe\">\n",
       "  <thead>\n",
       "    <tr style=\"text-align: right;\">\n",
       "      <th></th>\n",
       "      <th>Day</th>\n",
       "      <th>Temp Hi</th>\n",
       "      <th>Temp Low</th>\n",
       "      <th>Solar</th>\n",
       "      <th>Cloud Cover Percentage</th>\n",
       "      <th>Rainfall in mm</th>\n",
       "      <th>Power Generated in MW</th>\n",
       "    </tr>\n",
       "  </thead>\n",
       "  <tbody>\n",
       "    <tr>\n",
       "      <td>count</td>\n",
       "      <td>365.000000</td>\n",
       "      <td>365.000000</td>\n",
       "      <td>365.000000</td>\n",
       "      <td>365.000000</td>\n",
       "      <td>365.000000</td>\n",
       "      <td>365.000000</td>\n",
       "      <td>365.000000</td>\n",
       "    </tr>\n",
       "    <tr>\n",
       "      <td>mean</td>\n",
       "      <td>15.720548</td>\n",
       "      <td>91.687671</td>\n",
       "      <td>66.635616</td>\n",
       "      <td>22.615068</td>\n",
       "      <td>6.972603</td>\n",
       "      <td>2.339726</td>\n",
       "      <td>7.488192</td>\n",
       "    </tr>\n",
       "    <tr>\n",
       "      <td>std</td>\n",
       "      <td>8.808321</td>\n",
       "      <td>10.281531</td>\n",
       "      <td>10.750484</td>\n",
       "      <td>5.311600</td>\n",
       "      <td>1.699811</td>\n",
       "      <td>15.256405</td>\n",
       "      <td>1.759069</td>\n",
       "    </tr>\n",
       "    <tr>\n",
       "      <td>min</td>\n",
       "      <td>1.000000</td>\n",
       "      <td>66.000000</td>\n",
       "      <td>43.000000</td>\n",
       "      <td>1.500000</td>\n",
       "      <td>1.000000</td>\n",
       "      <td>0.000000</td>\n",
       "      <td>0.500000</td>\n",
       "    </tr>\n",
       "    <tr>\n",
       "      <td>25%</td>\n",
       "      <td>8.000000</td>\n",
       "      <td>83.000000</td>\n",
       "      <td>58.000000</td>\n",
       "      <td>18.500000</td>\n",
       "      <td>6.000000</td>\n",
       "      <td>0.000000</td>\n",
       "      <td>6.130000</td>\n",
       "    </tr>\n",
       "    <tr>\n",
       "      <td>50%</td>\n",
       "      <td>16.000000</td>\n",
       "      <td>93.000000</td>\n",
       "      <td>68.000000</td>\n",
       "      <td>22.800000</td>\n",
       "      <td>7.000000</td>\n",
       "      <td>0.000000</td>\n",
       "      <td>7.550000</td>\n",
       "    </tr>\n",
       "    <tr>\n",
       "      <td>75%</td>\n",
       "      <td>23.000000</td>\n",
       "      <td>99.000000</td>\n",
       "      <td>75.000000</td>\n",
       "      <td>27.000000</td>\n",
       "      <td>9.000000</td>\n",
       "      <td>0.000000</td>\n",
       "      <td>8.940000</td>\n",
       "    </tr>\n",
       "    <tr>\n",
       "      <td>max</td>\n",
       "      <td>31.000000</td>\n",
       "      <td>111.000000</td>\n",
       "      <td>94.000000</td>\n",
       "      <td>30.200000</td>\n",
       "      <td>9.000000</td>\n",
       "      <td>161.500000</td>\n",
       "      <td>10.000000</td>\n",
       "    </tr>\n",
       "  </tbody>\n",
       "</table>\n",
       "</div>"
      ],
      "text/plain": [
       "              Day     Temp Hi    Temp Low       Solar  Cloud Cover Percentage  \\\n",
       "count  365.000000  365.000000  365.000000  365.000000              365.000000   \n",
       "mean    15.720548   91.687671   66.635616   22.615068                6.972603   \n",
       "std      8.808321   10.281531   10.750484    5.311600                1.699811   \n",
       "min      1.000000   66.000000   43.000000    1.500000                1.000000   \n",
       "25%      8.000000   83.000000   58.000000   18.500000                6.000000   \n",
       "50%     16.000000   93.000000   68.000000   22.800000                7.000000   \n",
       "75%     23.000000   99.000000   75.000000   27.000000                9.000000   \n",
       "max     31.000000  111.000000   94.000000   30.200000                9.000000   \n",
       "\n",
       "       Rainfall in mm  Power Generated in MW  \n",
       "count      365.000000             365.000000  \n",
       "mean         2.339726               7.488192  \n",
       "std         15.256405               1.759069  \n",
       "min          0.000000               0.500000  \n",
       "25%          0.000000               6.130000  \n",
       "50%          0.000000               7.550000  \n",
       "75%          0.000000               8.940000  \n",
       "max        161.500000              10.000000  "
      ]
     },
     "execution_count": 12,
     "metadata": {},
     "output_type": "execute_result"
    }
   ],
   "source": [
    "data.describe()"
   ]
  },
  {
   "cell_type": "code",
   "execution_count": 13,
   "metadata": {},
   "outputs": [
    {
     "data": {
      "image/png": "[encoded data removed]",
      "text/plain": [
       "<Figure size 1080x1080 with 9 Axes>"
      ]
     },
     "metadata": {
      "needs_background": "light"
     },
     "output_type": "display_data"
    }
   ],
   "source": [
    "pd.DataFrame.hist(data, figsize = [15,15]);"
   ]
  },
  {
   "cell_type": "markdown",
   "metadata": {},
   "source": [
    "### Split data into training and test sets"
   ]
  },
  {
   "cell_type": "code",
   "execution_count": 14,
   "metadata": {},
   "outputs": [],
   "source": [
    "X = data.drop(['Power Generated in MW', 'Month ', 'Day'], axis = 1).values # X are the input (or independent) variables\n",
    "y = data['Power Generated in MW'].values # Y is output (or dependent) variable"
   ]
  },
  {
   "cell_type": "code",
   "execution_count": 16,
   "metadata": {},
   "outputs": [],
   "source": [
    "from sklearn.model_selection import train_test_split"
   ]
  },
  {
   "cell_type": "code",
   "execution_count": 17,
   "metadata": {},
   "outputs": [],
   "source": [
    "# create training and testing sets\n",
    "X_train, X_test, y_train, y_test = train_test_split(X, y, test_size=0.2)"
   ]
  },
  {
   "cell_type": "code",
   "execution_count": 18,
   "metadata": {},
   "outputs": [
    {
     "name": "stdout",
     "output_type": "stream",
     "text": [
      "(292, 5) (292,)\n",
      "(73, 5) (73,)\n"
     ]
    }
   ],
   "source": [
    "print(X_train.shape, y_train.shape)\n",
    "print(X_test.shape, y_test.shape)"
   ]
  },
  {
   "cell_type": "code",
   "execution_count": 19,
   "metadata": {},
   "outputs": [],
   "source": [
    "lm = linear_model.LinearRegression()\n",
    "model = lm.fit(X_train,y_train)"
   ]
  },
  {
   "cell_type": "code",
   "execution_count": 20,
   "metadata": {},
   "outputs": [],
   "source": [
    "predictions = lm.predict(X_test)"
   ]
  },
  {
   "cell_type": "code",
   "execution_count": 21,
   "metadata": {},
   "outputs": [
    {
     "name": "stdout",
     "output_type": "stream",
     "text": [
      "[9.13974725 5.79366214 9.70217902 8.77457089 7.61577071]\n"
     ]
    }
   ],
   "source": [
    "print(predictions[0:5]) # print the first 5 predictions"
   ]
  },
  {
   "cell_type": "code",
   "execution_count": 22,
   "metadata": {},
   "outputs": [
    {
     "data": {
      "text/plain": [
       "Text(0, 0.5, 'Predictions')"
      ]
     },
     "execution_count": 22,
     "metadata": {},
     "output_type": "execute_result"
    },
    {
     "data": {
      "image/png": "[encoded data removed]",
      "text/plain": [
       "<Figure size 432x288 with 1 Axes>"
      ]
     },
     "metadata": {
      "needs_background": "light"
     },
     "output_type": "display_data"
    }
   ],
   "source": [
    "plt.scatter(y_test, predictions)\n",
    "plt.xlabel(\"True values\")\n",
    "plt.ylabel(\"Predictions\")"
   ]
  },
  {
   "cell_type": "code",
   "execution_count": 23,
   "metadata": {},
   "outputs": [
    {
     "name": "stdout",
     "output_type": "stream",
     "text": [
      "Score: 0.9999975676534807\n"
     ]
    }
   ],
   "source": [
    "print(\"Score:\", model.score(X_test, y_test))"
   ]
  }
 ],
 "metadata": {
  "kernelspec": {
   "display_name": "Python 3",
   "language": "python",
   "name": "python3"
  },
  "language_info": {
   "codemirror_mode": {
    "name": "ipython",
    "version": 3
   },
   "file_extension": ".py",
   "mimetype": "text/x-python",
   "name": "python",
   "nbconvert_exporter": "python",
   "pygments_lexer": "ipython3",
   "version": "3.7.4"
  }
 },
 "nbformat": 4,
 "nbformat_minor": 2
}
